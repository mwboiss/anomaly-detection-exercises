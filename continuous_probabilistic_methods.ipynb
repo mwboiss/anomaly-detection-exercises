{
 "cells": [
  {
   "cell_type": "markdown",
   "id": "64c8defe-4a6c-44df-947a-0cd4ba5da912",
   "metadata": {},
   "source": [
    "# Anomaly Detection"
   ]
  },
  {
   "cell_type": "code",
   "execution_count": 1,
   "id": "83b45556-7628-40a7-b8ed-ca3fdc408313",
   "metadata": {},
   "outputs": [],
   "source": [
    "import pandas as pd\n",
    "import numpy as np\n",
    "\n",
    "pd.options.display.max_rows = None\n",
    "pd.options.display.max_columns = None\n",
    "\n",
    "import warnings\n",
    "warnings.filterwarnings('ignore')"
   ]
  },
  {
   "cell_type": "markdown",
   "id": "7e8a62b3-ca3c-477f-a181-9e3bcd82daba",
   "metadata": {},
   "source": [
    "## Continuous Probablistic Methods Exercises"
   ]
  },
  {
   "cell_type": "markdown",
   "id": "fbb92f57-d640-4aeb-8d03-109ebf7104e0",
   "metadata": {},
   "source": [
    "1. Define a function named get_lower_and_upper_bounds that has two arguments. \n",
    "- The first argument is a pandas Series. \n",
    "- The second argument is the multiplier, which should have a default argument of 1.5."
   ]
  },
  {
   "cell_type": "code",
   "execution_count": 2,
   "id": "12412a64-9494-4ba2-883e-974b43d8ecca",
   "metadata": {},
   "outputs": [],
   "source": [
    "def get_lower_and_upper_bounds(series, multiplier=1.5, extreme_multiplier=3, extreme = False):\n",
    "    '''\n",
    "    This funciton takes in a series, two multipliers and a flag and returns the upper and lower bounds\n",
    "    requested.\n",
    "    '''\n",
    "    # Compute the first quartile\n",
    "    q1 = series.quantile(0.25)\n",
    "    # Compute the third quartile\n",
    "    q3 = series.quantile(0.75)\n",
    "    # Compute the Interquartile Range\n",
    "    iqr = q3 - q1\n",
    "    # Compute the mild outlier upper bound\n",
    "    upper_bound = (multiplier * iqr) + q3\n",
    "    # Compute the mild outlier lower bound\n",
    "    lower_bound = q1 - (multiplier * iqr)\n",
    "    # Compute the extreme outlier upper bound\n",
    "    upper_outer_bound = (extreme_multiplier * iqr) + q3\n",
    "    # Compute the extreem outlier lower bound\n",
    "    lower_outer_bound = q1 - (extreme_multiplier * iqr)\n",
    "    # check extreme flag and return appropriate values\n",
    "    if extreme:\n",
    "        return upper_outer_bound, upper_bound, lower_bound, lower_outer_bound\n",
    "    else:\n",
    "        return upper_bound, lower_bound"
   ]
  },
  {
   "cell_type": "markdown",
   "id": "c102b982-a182-4489-b03b-0b1b1f143146",
   "metadata": {},
   "source": [
    "2. Using lemonade.csv dataset and focusing on continuous variables:"
   ]
  },
  {
   "cell_type": "code",
   "execution_count": 3,
   "id": "3c486901-38a7-4e3c-abfc-f7bc38c48098",
   "metadata": {},
   "outputs": [
    {
     "data": {
      "text/html": [
       "<div>\n",
       "<style scoped>\n",
       "    .dataframe tbody tr th:only-of-type {\n",
       "        vertical-align: middle;\n",
       "    }\n",
       "\n",
       "    .dataframe tbody tr th {\n",
       "        vertical-align: top;\n",
       "    }\n",
       "\n",
       "    .dataframe thead th {\n",
       "        text-align: right;\n",
       "    }\n",
       "</style>\n",
       "<table border=\"1\" class=\"dataframe\">\n",
       "  <thead>\n",
       "    <tr style=\"text-align: right;\">\n",
       "      <th></th>\n",
       "      <th>Date</th>\n",
       "      <th>Day</th>\n",
       "      <th>Temperature</th>\n",
       "      <th>Rainfall</th>\n",
       "      <th>Flyers</th>\n",
       "      <th>Price</th>\n",
       "      <th>Sales</th>\n",
       "    </tr>\n",
       "  </thead>\n",
       "  <tbody>\n",
       "    <tr>\n",
       "      <th>0</th>\n",
       "      <td>1/1/17</td>\n",
       "      <td>Sunday</td>\n",
       "      <td>27.0</td>\n",
       "      <td>2.00</td>\n",
       "      <td>15</td>\n",
       "      <td>0.5</td>\n",
       "      <td>10</td>\n",
       "    </tr>\n",
       "    <tr>\n",
       "      <th>1</th>\n",
       "      <td>1/2/17</td>\n",
       "      <td>Monday</td>\n",
       "      <td>28.9</td>\n",
       "      <td>1.33</td>\n",
       "      <td>15</td>\n",
       "      <td>0.5</td>\n",
       "      <td>13</td>\n",
       "    </tr>\n",
       "    <tr>\n",
       "      <th>2</th>\n",
       "      <td>1/3/17</td>\n",
       "      <td>Tuesday</td>\n",
       "      <td>34.5</td>\n",
       "      <td>1.33</td>\n",
       "      <td>27</td>\n",
       "      <td>0.5</td>\n",
       "      <td>15</td>\n",
       "    </tr>\n",
       "    <tr>\n",
       "      <th>3</th>\n",
       "      <td>1/4/17</td>\n",
       "      <td>Wednesday</td>\n",
       "      <td>44.1</td>\n",
       "      <td>1.05</td>\n",
       "      <td>28</td>\n",
       "      <td>0.5</td>\n",
       "      <td>17</td>\n",
       "    </tr>\n",
       "    <tr>\n",
       "      <th>4</th>\n",
       "      <td>1/5/17</td>\n",
       "      <td>Thursday</td>\n",
       "      <td>42.4</td>\n",
       "      <td>1.00</td>\n",
       "      <td>33</td>\n",
       "      <td>0.5</td>\n",
       "      <td>18</td>\n",
       "    </tr>\n",
       "  </tbody>\n",
       "</table>\n",
       "</div>"
      ],
      "text/plain": [
       "     Date        Day  Temperature  Rainfall  Flyers  Price  Sales\n",
       "0  1/1/17     Sunday         27.0      2.00      15    0.5     10\n",
       "1  1/2/17     Monday         28.9      1.33      15    0.5     13\n",
       "2  1/3/17    Tuesday         34.5      1.33      27    0.5     15\n",
       "3  1/4/17  Wednesday         44.1      1.05      28    0.5     17\n",
       "4  1/5/17   Thursday         42.4      1.00      33    0.5     18"
      ]
     },
     "execution_count": 3,
     "metadata": {},
     "output_type": "execute_result"
    }
   ],
   "source": [
    "lemonade = pd.read_csv('https://gist.githubusercontent.com/ryanorsinger/19bc7eccd6279661bd13307026628ace/raw/e4b5d6787015a4782f96cad6d1d62a8bdbac54c7/lemonade.csv')\n",
    "lemonade.head()"
   ]
  },
  {
   "cell_type": "code",
   "execution_count": 17,
   "id": "a808460e-24c6-4404-8de9-f677e865e67f",
   "metadata": {},
   "outputs": [
    {
     "name": "stdout",
     "output_type": "stream",
     "text": [
      "Temperature Max: 212.0, Temperature Min: 15.1\n",
      "\n",
      "eub: 137.7, ub: 104.7, lb: 16.700000000000003, elb: -16.299999999999997\n",
      "----------------------------\n",
      "\n",
      "Rainfall Max: 2.5, Rainfall Min: 0.4\n",
      "\n",
      "eub: 1.69, ub: 1.3, lb: 0.26, elb: -0.13\n",
      "----------------------------\n",
      "\n",
      "Flyers Max: 80, Flyers Min: -38\n",
      "\n",
      "eub: 103.0, ub: 76.0, lb: 4.0, elb: -23.0\n",
      "----------------------------\n",
      "\n",
      "Price Max: 0.5, Price Min: 0.5\n",
      "\n",
      "eub: 0.5, ub: 0.5, lb: 0.5, elb: 0.5\n",
      "----------------------------\n",
      "\n",
      "Sales Max: 534, Sales Min: 7\n",
      "\n",
      "eub: 60.0, ub: 45.0, lb: 5.0, elb: -10.0\n",
      "----------------------------\n",
      "\n"
     ]
    }
   ],
   "source": [
    "for col in lemonade.columns[[(lemonade.dtypes == int) | (lemonade.dtypes == float)]]:\n",
    "    eub,ub,lb,elb = get_lower_and_upper_bounds(lemonade[col],extreme=True)\n",
    "    print(f'{col} Max: {np.max(lemonade[col])}, {col} Min: {np.min(lemonade[col])}\\n')\n",
    "    print(f'eub: {eub}, ub: {ub}, lb: {lb}, elb: {elb}')\n",
    "    print('----------------------------\\n')"
   ]
  },
  {
   "cell_type": "markdown",
   "id": "3ce172e0-9ccc-4769-9ce3-c55c139db5b9",
   "metadata": {},
   "source": [
    "a) Use the IQR Range Rule and the upper and lower bounds to identify the lower outliers of each column of lemonade.csv, using the multiplier of 1.5."
   ]
  },
  {
   "cell_type": "code",
   "execution_count": 19,
   "id": "d19cbe66-697d-447c-95d3-110789f929d3",
   "metadata": {},
   "outputs": [
    {
     "name": "stdout",
     "output_type": "stream",
     "text": [
      "Temperature Max: 212.0, Temperature Min: 15.1\n",
      "\n",
      "lb: 16.700000000000003\n",
      "\n",
      "Lower Outliers\n",
      "\n",
      "15.1    1\n",
      "Name: Temperature, dtype: int64\n",
      "----------------------------\n",
      "\n",
      "\n",
      "Rainfall Max: 2.5, Rainfall Min: 0.4\n",
      "\n",
      "lb: 0.26\n",
      "\n",
      "Lower Outliers\n",
      "\n",
      "Series([], Name: Rainfall, dtype: int64)\n",
      "----------------------------\n",
      "\n",
      "\n",
      "Flyers Max: 80, Flyers Min: -38\n",
      "\n",
      "lb: 4.0\n",
      "\n",
      "Lower Outliers\n",
      "\n",
      "-38    1\n",
      "Name: Flyers, dtype: int64\n",
      "----------------------------\n",
      "\n",
      "\n",
      "Price Max: 0.5, Price Min: 0.5\n",
      "\n",
      "lb: 0.5\n",
      "\n",
      "Lower Outliers\n",
      "\n",
      "Series([], Name: Price, dtype: int64)\n",
      "----------------------------\n",
      "\n",
      "\n",
      "Sales Max: 534, Sales Min: 7\n",
      "\n",
      "lb: 5.0\n",
      "\n",
      "Lower Outliers\n",
      "\n",
      "Series([], Name: Sales, dtype: int64)\n",
      "----------------------------\n",
      "\n",
      "\n"
     ]
    }
   ],
   "source": [
    "for col in lemonade.columns[[(lemonade.dtypes == int) | (lemonade.dtypes == float)]]:\n",
    "    eub,ub,lb,elb = get_lower_and_upper_bounds(lemonade[col],extreme=True)\n",
    "    print(f'{col} Max: {np.max(lemonade[col])}, {col} Min: {np.min(lemonade[col])}\\n')\n",
    "    print(f'lb: {lb}')\n",
    "    print('\\nLower Outliers\\n')\n",
    "    print(lemonade[lemonade[col] < lb][col].value_counts().sort_index(ascending=False))\n",
    "    print('----------------------------\\n\\n')"
   ]
  },
  {
   "cell_type": "markdown",
   "id": "312abd4b-54e4-457e-9d35-8b8286979ed8",
   "metadata": {},
   "source": [
    "- Do these lower outliers make sense? \n",
    "\n",
    "\n",
    "\n",
    "- Which outliers should be kept?\n",
    "\n",
    "\n"
   ]
  },
  {
   "cell_type": "markdown",
   "id": "92ed07b1-e668-491e-8b49-e38d4707076a",
   "metadata": {},
   "source": [
    "b) Use the IQR Range Rule and the upper and upper bounds to identify the upper outliers of each column of lemonade.csv, using the multiplier of 1.5."
   ]
  },
  {
   "cell_type": "code",
   "execution_count": 20,
   "id": "94b8d0e2-c9de-4b4b-8a3e-b7f8082d9d8e",
   "metadata": {},
   "outputs": [
    {
     "name": "stdout",
     "output_type": "stream",
     "text": [
      "Temperature Max: 212.0, Temperature Min: 15.1\n",
      "\n",
      "ub: 104.7\n",
      "\n",
      "Lower Outliers\n",
      "\n",
      "212.0    1\n",
      "Name: Temperature, dtype: int64\n",
      "----------------------------\n",
      "\n",
      "\n",
      "\n",
      "\n",
      "\n",
      "Rainfall Max: 2.5, Rainfall Min: 0.4\n",
      "\n",
      "ub: 1.3\n",
      "\n",
      "Lower Outliers\n",
      "\n",
      "2.50    1\n",
      "2.00    1\n",
      "1.82    2\n",
      "1.67    1\n",
      "1.54    7\n",
      "1.43    7\n",
      "1.33    9\n",
      "Name: Rainfall, dtype: int64\n",
      "----------------------------\n",
      "\n",
      "\n",
      "\n",
      "\n",
      "\n",
      "Flyers Max: 80, Flyers Min: -38\n",
      "\n",
      "ub: 76.0\n",
      "\n",
      "Lower Outliers\n",
      "\n",
      "80    1\n",
      "77    1\n",
      "Name: Flyers, dtype: int64\n",
      "----------------------------\n",
      "\n",
      "\n",
      "\n",
      "\n",
      "\n",
      "Price Max: 0.5, Price Min: 0.5\n",
      "\n",
      "ub: 0.5\n",
      "\n",
      "Lower Outliers\n",
      "\n",
      "Series([], Name: Price, dtype: int64)\n",
      "----------------------------\n",
      "\n",
      "\n",
      "\n",
      "\n",
      "\n",
      "Sales Max: 534, Sales Min: 7\n",
      "\n",
      "ub: 45.0\n",
      "\n",
      "Lower Outliers\n",
      "\n",
      "534    1\n",
      "235    1\n",
      "158    1\n",
      "143    1\n",
      "Name: Sales, dtype: int64\n",
      "----------------------------\n",
      "\n",
      "\n",
      "\n",
      "\n",
      "\n"
     ]
    }
   ],
   "source": [
    "for col in lemonade.columns[[(lemonade.dtypes == int) | (lemonade.dtypes == float)]]:\n",
    "    eub,ub,lb,elb = get_lower_and_upper_bounds(lemonade[col],extreme=True)\n",
    "    print(f'{col} Max: {np.max(lemonade[col])}, {col} Min: {np.min(lemonade[col])}\\n')\n",
    "    print(f'ub: {ub}')\n",
    "    print('\\nLower Outliers\\n')\n",
    "    print(lemonade[lemonade[col] > ub][col].value_counts().sort_index(ascending=False))\n",
    "    print('----------------------------\\n\\n\\n\\n\\n')"
   ]
  },
  {
   "cell_type": "markdown",
   "id": "fd9c7bbd-675d-4cce-a078-b058ae2e70c0",
   "metadata": {},
   "source": [
    "- Do these upper outliers make sense? \n",
    "\n",
    "\n",
    "\n",
    "- Which outliers should be kept?\n",
    "\n",
    "\n"
   ]
  },
  {
   "cell_type": "markdown",
   "id": "d2ebec46-06c2-4a02-a105-17cb3770995a",
   "metadata": {},
   "source": [
    "c) Using the multiplier of 3, IQR Range Rule, and the lower bounds, identify the outliers below the lower bound in each colum of lemonade.csv."
   ]
  },
  {
   "cell_type": "code",
   "execution_count": null,
   "id": "500cf73d-3c79-4005-8e96-3acca259c097",
   "metadata": {},
   "outputs": [],
   "source": [
    "for col in lemonade.columns[[(lemonade.dtypes == int) | (lemonade.dtypes == float)]]:\n",
    "    eub,ub,lb,elb = get_lower_and_upper_bounds(lemonade[col],extreme=True)\n",
    "    print(f'{col} Max: {np.max(lemonade[col])}, {col} Min: {np.min(lemonade[col])}\\n')\n",
    "    print(f'eub: {eub}, ub: {ub}, lb: {lb}, elb: {elb}')\n",
    "    print('\\nLower Outliers\\n')\n",
    "    print(lemonade[lemonade[col] < lb][col].value_counts().sort_index(ascending=False))\n",
    "    print('----------------------------\\n\\n\\n\\n\\n')"
   ]
  },
  {
   "cell_type": "markdown",
   "id": "a44ee596-e439-4f22-8530-1fb4e0ed038d",
   "metadata": {},
   "source": [
    "- Do these lower outliers make sense? \n",
    "\n",
    "\n",
    "\n",
    "- Which outliers should be kept?\n",
    "\n",
    "\n"
   ]
  },
  {
   "cell_type": "markdown",
   "id": "cda6937b-a7c3-4402-98c1-cd2a8b045641",
   "metadata": {},
   "source": [
    "d) Using the multiplier of 3, IQR Range Rule, and the upper bounds, identify the outliers above the upper_bound in each colum of lemonade.csv."
   ]
  },
  {
   "cell_type": "code",
   "execution_count": null,
   "id": "bf8cf1c3-9b14-420c-a102-8d43b40ac4ec",
   "metadata": {},
   "outputs": [],
   "source": [
    "for col in lemonade.columns[[(lemonade.dtypes == int) | (lemonade.dtypes == float)]]:\n",
    "    eub,ub,lb,elb = get_lower_and_upper_bounds(lemonade[col],extreme=True)\n",
    "    print(f'{col} Max: {np.max(lemonade[col])}, {col} Min: {np.min(lemonade[col])}\\n')\n",
    "    print(f'eub: {eub}, ub: {ub}, lb: {lb}, elb: {elb}')\n",
    "    print('\\nLower Outliers\\n')\n",
    "    print(lemonade[lemonade[col] < lb][col].value_counts().sort_index(ascending=False))\n",
    "    print('----------------------------\\n\\n\\n\\n\\n')"
   ]
  },
  {
   "cell_type": "markdown",
   "id": "12068b27-e4ee-4ddb-a29b-454895d054d8",
   "metadata": {},
   "source": [
    "- Do these upper outliers make sense?\n",
    "\n",
    "\n",
    "\n",
    "- Which outliers should be kept?\n",
    "\n",
    "\n"
   ]
  },
  {
   "cell_type": "markdown",
   "id": "f083db9c-a567-4009-bc6b-72452f9c2d6f",
   "metadata": {},
   "source": [
    "3. Identify if any columns in lemonade.csv are normally distributed. For normally distributed columns:\n",
    "- Use a 2 sigma decision rule to isolate the outliers."
   ]
  },
  {
   "cell_type": "code",
   "execution_count": null,
   "id": "306b165e-4b54-48ea-9308-82f4c3c58595",
   "metadata": {},
   "outputs": [],
   "source": [
    "for col in lemonade.columns[[(lemonade.dtypes == int) | (lemonade.dtypes == float)]]:\n",
    "    eub,ub,lb,elb = get_lower_and_upper_bounds(lemonade[col],extreme=True)\n",
    "    print(f'{col} Max: {np.max(lemonade[col])}, {col} Min: {np.min(lemonade[col])}\\n')\n",
    "    print(f'eub: {eub}, ub: {ub}, lb: {lb}, elb: {elb}')\n",
    "    print('\\nLower Outliers\\n')\n",
    "    print(lemonade[lemonade[col] < lb][col].value_counts().sort_index(ascending=False))\n",
    "    print('----------------------------\\n\\n\\n\\n\\n')"
   ]
  },
  {
   "cell_type": "markdown",
   "id": "39d869a5-9abe-4427-82eb-a58e6b365810",
   "metadata": {},
   "source": [
    "- Do these make sense?\n",
    "\n",
    "\n",
    "\n",
    "- Should certain outliers be kept or removed?\n",
    "\n",
    "\n"
   ]
  },
  {
   "cell_type": "markdown",
   "id": "3303267a-3217-4222-a593-70a82dcf6a8f",
   "metadata": {},
   "source": [
    "4. Now use a 3 sigma decision rule to isolate the outliers in the normally distributed columns from lemonade.csv"
   ]
  },
  {
   "cell_type": "code",
   "execution_count": null,
   "id": "1d882fa3-7834-4954-b433-bc399ce39a63",
   "metadata": {},
   "outputs": [],
   "source": [
    "for col in lemonade.columns[[(lemonade.dtypes == int) | (lemonade.dtypes == float)]]:\n",
    "    eub,ub,lb,elb = get_lower_and_upper_bounds(lemonade[col],extreme=True)\n",
    "    print(f'{col} Max: {np.max(lemonade[col])}, {col} Min: {np.min(lemonade[col])}\\n')\n",
    "    print(f'eub: {eub}, ub: {ub}, lb: {lb}, elb: {elb}')\n",
    "    print('\\nLower Outliers\\n')\n",
    "    print(lemonade[lemonade[col] < lb][col].value_counts().sort_index(ascending=False))\n",
    "    print('----------------------------\\n\\n\\n\\n\\n')"
   ]
  }
 ],
 "metadata": {
  "kernelspec": {
   "display_name": "Python 3 (ipykernel)",
   "language": "python",
   "name": "python3"
  },
  "language_info": {
   "codemirror_mode": {
    "name": "ipython",
    "version": 3
   },
   "file_extension": ".py",
   "mimetype": "text/x-python",
   "name": "python",
   "nbconvert_exporter": "python",
   "pygments_lexer": "ipython3",
   "version": "3.9.7"
  }
 },
 "nbformat": 4,
 "nbformat_minor": 5
}
