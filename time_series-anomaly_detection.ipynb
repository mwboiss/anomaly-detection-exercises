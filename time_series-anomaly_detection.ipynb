{
 "cells": [
  {
   "cell_type": "markdown",
   "id": "1e78324a-604f-48bd-a2e0-9d66598dfe70",
   "metadata": {},
   "source": [
    "Time Series Anomaly Detection Exercises"
   ]
  },
  {
   "cell_type": "markdown",
   "id": "a829dc03-58a2-4a82-9d79-78d79f682b41",
   "metadata": {},
   "source": [
    "The dataset for these exercises lives in the Codeup Data Science MySQL Server. The database name is curriculum_logs."
   ]
  },
  {
   "cell_type": "code",
   "execution_count": null,
   "id": "445d24ef-9093-4d30-9111-f1d01db8a8c8",
   "metadata": {},
   "outputs": [],
   "source": []
  },
  {
   "cell_type": "markdown",
   "id": "527dd25b-dd5d-4545-a8cd-2ec119d022ba",
   "metadata": {},
   "source": [
    "Go through the lesson commenting code, adding docstrings, and adding markdown to support what is happening."
   ]
  },
  {
   "cell_type": "code",
   "execution_count": null,
   "id": "9f2c0eae-7661-4eca-ad3f-f236112adc29",
   "metadata": {},
   "outputs": [],
   "source": []
  },
  {
   "cell_type": "markdown",
   "id": "9313e3f3-0e3b-44bc-ae00-02d282dc18d6",
   "metadata": {},
   "source": [
    "Bonus:\n",
    "\n",
    "Discover users who are accessing our curriculum pages way beyond the end of their codeup time."
   ]
  },
  {
   "cell_type": "code",
   "execution_count": null,
   "id": "3fb7686a-946f-4770-b66e-6e2e67f38826",
   "metadata": {},
   "outputs": [],
   "source": []
  },
  {
   "cell_type": "markdown",
   "id": "dc085e75-83f5-4331-829d-bd58ecabbd7e",
   "metadata": {},
   "source": [
    "What would the dataframe look like?"
   ]
  },
  {
   "cell_type": "code",
   "execution_count": null,
   "id": "586f488b-76e6-4529-af15-13ae41cd1ad7",
   "metadata": {},
   "outputs": [],
   "source": []
  },
  {
   "cell_type": "markdown",
   "id": "662adc58-6e7a-42f1-a1f7-f6010fc0965c",
   "metadata": {},
   "source": [
    "Use time series method for detecting anomalies, like exponential moving average with %b."
   ]
  },
  {
   "cell_type": "code",
   "execution_count": null,
   "id": "4e340b5b-7f29-4590-b5f9-df553f2491c1",
   "metadata": {},
   "outputs": [],
   "source": []
  },
  {
   "cell_type": "markdown",
   "id": "d2a7da1d-12ff-4319-8f55-8d77eca2e77d",
   "metadata": {},
   "source": [
    "Can you label students who are viewing both the web dev and data science curriculum?"
   ]
  },
  {
   "cell_type": "code",
   "execution_count": null,
   "id": "4602892a-7b5d-462e-9cbd-f5971c279248",
   "metadata": {},
   "outputs": [],
   "source": []
  },
  {
   "cell_type": "markdown",
   "id": "00802891-60de-431c-93a0-dc758f3f7d56",
   "metadata": {},
   "source": [
    "Can you label students by the program they are in?"
   ]
  },
  {
   "cell_type": "code",
   "execution_count": null,
   "id": "aea7f860-b8e2-4bc8-9260-99009a6e9a1d",
   "metadata": {},
   "outputs": [],
   "source": []
  },
  {
   "cell_type": "markdown",
   "id": "6a664f0c-6d20-4085-b656-6813b54fab66",
   "metadata": {},
   "source": [
    "Can you label users by student vs. staff?"
   ]
  },
  {
   "cell_type": "code",
   "execution_count": null,
   "id": "bba56a5d-cf4c-4c64-95ef-287a1c921fff",
   "metadata": {},
   "outputs": [],
   "source": []
  }
 ],
 "metadata": {
  "kernelspec": {
   "display_name": "Python 3 (ipykernel)",
   "language": "python",
   "name": "python3"
  },
  "language_info": {
   "codemirror_mode": {
    "name": "ipython",
    "version": 3
   },
   "file_extension": ".py",
   "mimetype": "text/x-python",
   "name": "python",
   "nbconvert_exporter": "python",
   "pygments_lexer": "ipython3",
   "version": "3.9.7"
  }
 },
 "nbformat": 4,
 "nbformat_minor": 5
}
